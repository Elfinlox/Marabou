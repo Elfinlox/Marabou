{
  "cells": [
    {
      "cell_type": "code",
      "execution_count": null,
      "source": [
        "%matplotlib inline"
      ],
      "outputs": [],
      "metadata": {
        "collapsed": false
      }
    },
    {
      "cell_type": "markdown",
      "source": [
        "\nTensorflow Example\n====================\n\nTop contributors (to current version):\n  - Christopher Lazarus\n  - Kyle Julian\n  \nThis file is part of the Marabou project.\nCopyright (c) 2017-2019 by the authors listed in the file AUTHORS\nin the top-level source directory) and their institutional affiliations.\nAll rights reserved. See the file COPYING in the top-level source\ndirectory for licensing information.\n\n"
      ],
      "metadata": {}
    },
    {
      "cell_type": "code",
      "execution_count": null,
      "source": [
        "from maraboupy import Marabou\nimport numpy as np"
      ],
      "outputs": [],
      "metadata": {
        "collapsed": false
      }
    },
    {
      "cell_type": "markdown",
      "source": [
        "This network has inputs x0, x1, and was trained to create outputs that approximate\ny0 = abs(x0) + abs(x1), y1 = x0^2 + x1^2\n\n"
      ],
      "metadata": {}
    },
    {
      "cell_type": "code",
      "execution_count": null,
      "source": [
        "filename = \"../../resources/tf/frozen_graph/fc1.pb\"\nnetwork = Marabou.read_tf(filename)"
      ],
      "outputs": [],
      "metadata": {
        "collapsed": false
      }
    },
    {
      "cell_type": "markdown",
      "source": [
        "Or, you can specify the operation names of the input and output operations.\nThe default chooses the placeholder operations as input and the last operation as output\n\n"
      ],
      "metadata": {}
    },
    {
      "cell_type": "code",
      "execution_count": null,
      "source": [
        "inputNames = ['Placeholder']\noutputName = 'y_out'\nnetwork = Marabou.read_tf(filename = filename, inputNames = inputNames, outputName = outputName)"
      ],
      "outputs": [],
      "metadata": {
        "collapsed": false
      }
    },
    {
      "cell_type": "markdown",
      "source": [
        "Get the input and output variable numbers; [0] since first dimension is batch size\n\n"
      ],
      "metadata": {}
    },
    {
      "cell_type": "code",
      "execution_count": null,
      "source": [
        "inputVars = network.inputVars[0][0]\noutputVars = network.outputVars[0]"
      ],
      "outputs": [],
      "metadata": {
        "collapsed": false
      }
    },
    {
      "cell_type": "markdown",
      "source": [
        "Set input bounds on both input variables\n\n"
      ],
      "metadata": {}
    },
    {
      "cell_type": "code",
      "execution_count": null,
      "source": [
        "network.setLowerBound(inputVars[0],-10.0)\nnetwork.setUpperBound(inputVars[0], 10.0)\nnetwork.setLowerBound(inputVars[1],-10.0)\nnetwork.setUpperBound(inputVars[1], 10.0)"
      ],
      "outputs": [],
      "metadata": {
        "collapsed": false
      }
    },
    {
      "cell_type": "markdown",
      "source": [
        "Set output bounds on the second output variable\n\n"
      ],
      "metadata": {}
    },
    {
      "cell_type": "code",
      "execution_count": null,
      "source": [
        "network.setLowerBound(outputVars[1], 194.0)\nnetwork.setUpperBound(outputVars[1], 210.0)"
      ],
      "outputs": [],
      "metadata": {
        "collapsed": false
      }
    },
    {
      "cell_type": "markdown",
      "source": [
        "Call to C++ Marabou solver\n\n"
      ],
      "metadata": {}
    },
    {
      "cell_type": "code",
      "execution_count": null,
      "source": [
        "vals, stats = network.solve(\"marabou.log\")"
      ],
      "outputs": [],
      "metadata": {
        "collapsed": false
      }
    }
  ],
  "nbformat": 4,
  "nbformat_minor": 0,
  "metadata": {
    "kernelspec": {
      "language": "python",
      "name": "python3",
      "display_name": "Python 3"
    },
    "language_info": {
      "mimetype": "text/x-python",
      "pygments_lexer": "ipython3",
      "codemirror_mode": {
        "version": 3,
        "name": "ipython"
      },
      "file_extension": ".py",
      "version": "3.5.2",
      "name": "python",
      "nbconvert_exporter": "python"
    }
  }
}